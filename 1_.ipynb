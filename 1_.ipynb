{
 "cells": [
  {
   "cell_type": "code",
   "execution_count": 13,
   "id": "bdd0672f",
   "metadata": {},
   "outputs": [
    {
     "name": "stderr",
     "output_type": "stream",
     "text": [
      "c:\\Users\\dlwns\\miniconda3\\envs\\main\\Lib\\site-packages\\keras\\src\\layers\\core\\dense.py:87: UserWarning: Do not pass an `input_shape`/`input_dim` argument to a layer. When using Sequential models, prefer using an `Input(shape)` object as the first layer in the model instead.\n",
      "  super().__init__(activity_regularizer=activity_regularizer, **kwargs)\n"
     ]
    },
    {
     "name": "stdout",
     "output_type": "stream",
     "text": [
      "Episode 0, epsilon: 0.995\n",
      "Episode 50, epsilon: 0.774\n",
      "Episode 100, epsilon: 0.603\n",
      "Episode 150, epsilon: 0.469\n",
      "Episode 200, epsilon: 0.365\n",
      "Episode 250, epsilon: 0.284\n"
     ]
    }
   ],
   "source": [
    "import numpy as np\n",
    "import tensorflow as tf\n",
    "\n",
    "# 환경\n",
    "class Simple1DEnv:\n",
    "    def __init__(self):\n",
    "        self.position = np.random.randint(-5, 5)\n",
    "        self.goal = 3\n",
    "        self.min_pos = -5\n",
    "        self.max_pos = 5\n",
    "    \n",
    "    def reset(self):\n",
    "        self.position = np.random.randint(-5, 5)\n",
    "        return np.array([self.position], dtype=np.float32)\n",
    "    \n",
    "    def step(self, action):\n",
    "        self.position += action\n",
    "        self.position = np.clip(self.position, self.min_pos, self.max_pos)\n",
    "        reward = 10 if self.position == self.goal else -1\n",
    "        done = self.position == self.goal\n",
    "        return np.array([self.position], dtype=np.float32), reward, done\n",
    "\n",
    "# Q-network\n",
    "model = tf.keras.Sequential([\n",
    "    tf.keras.layers.Dense(16, activation='relu', input_shape=(1,)),\n",
    "    tf.keras.layers.Dense(16, activation='relu'),\n",
    "    tf.keras.layers.Dense(2)  # 왼쪽(0), 오른쪽(1)\n",
    "])\n",
    "optimizer = tf.keras.optimizers.Adam(learning_rate=0.01)\n",
    "loss_fn = tf.keras.losses.MeanSquaredError()\n",
    "\n",
    "# 학습\n",
    "def train(env, model, episodes=300):\n",
    "    gamma = 0.95\n",
    "    epsilon = 1.0\n",
    "    epsilon_decay = 0.995\n",
    "    for ep in range(episodes):\n",
    "        state = env.reset()\n",
    "        done = False\n",
    "        while not done:\n",
    "            if np.random.rand() < epsilon:\n",
    "                action = np.random.choice([0, 1])  # explore\n",
    "            else:\n",
    "                q_vals = model(np.array([state]))\n",
    "                action = np.argmax(q_vals[0].numpy())  # exploit\n",
    "            \n",
    "            next_state, reward, done = env.step(-1 if action == 0 else 1)\n",
    "            next_q = model(np.array([next_state]))\n",
    "            max_next_q = np.max(next_q[0].numpy())\n",
    "            target = reward + gamma * max_next_q if not done else reward\n",
    "\n",
    "            with tf.GradientTape() as tape:\n",
    "                q_val = model(np.array([state]))\n",
    "                target_vec = q_val.numpy()\n",
    "                target_vec[0][action] = target\n",
    "                loss = loss_fn(target_vec, q_val)\n",
    "            \n",
    "            grads = tape.gradient(loss, model.trainable_variables) # tape함수는 with문을 빠져나왔지만 1회용으로 한번만 with문 밖에서 사용가능함.\n",
    "            # 한번 쓰면 객체는 비활성화됨\n",
    "            \n",
    "            optimizer.apply_gradients(zip(grads, model.trainable_variables))\n",
    "\n",
    "            state = next_state\n",
    "        \n",
    "        epsilon *= epsilon_decay\n",
    "        if ep % 50 == 0:\n",
    "            print(f\"Episode {ep}, epsilon: {epsilon:.3f}\")\n",
    "\n",
    "env = Simple1DEnv()\n",
    "train(env, model)\n"
   ]
  },
  {
   "cell_type": "code",
   "execution_count": null,
   "id": "7e26c37c",
   "metadata": {},
   "outputs": [
    {
     "name": "stdout",
     "output_type": "stream",
     "text": [
      "\u001b[1m1/1\u001b[0m \u001b[32m━━━━━━━━━━━━━━━━━━━━\u001b[0m\u001b[37m\u001b[0m \u001b[1m0s\u001b[0m 61ms/step\n",
      "step-5's proportion is [[-0.2727631  1.1616365]]\n",
      "\u001b[1m1/1\u001b[0m \u001b[32m━━━━━━━━━━━━━━━━━━━━\u001b[0m\u001b[37m\u001b[0m \u001b[1m0s\u001b[0m 24ms/step\n",
      "step-4's proportion is [[0.38832957 2.0730655 ]]\n",
      "\u001b[1m1/1\u001b[0m \u001b[32m━━━━━━━━━━━━━━━━━━━━\u001b[0m\u001b[37m\u001b[0m \u001b[1m0s\u001b[0m 25ms/step\n",
      "step-3's proportion is [[1.0494218 2.9844942]]\n",
      "\u001b[1m1/1\u001b[0m \u001b[32m━━━━━━━━━━━━━━━━━━━━\u001b[0m\u001b[37m\u001b[0m \u001b[1m0s\u001b[0m 25ms/step\n",
      "step-2's proportion is [[2.2676234 4.331146 ]]\n",
      "\u001b[1m1/1\u001b[0m \u001b[32m━━━━━━━━━━━━━━━━━━━━\u001b[0m\u001b[37m\u001b[0m \u001b[1m0s\u001b[0m 24ms/step\n",
      "step-1's proportion is [[3.8177817 5.937064 ]]\n",
      "\u001b[1m1/1\u001b[0m \u001b[32m━━━━━━━━━━━━━━━━━━━━\u001b[0m\u001b[37m\u001b[0m \u001b[1m0s\u001b[0m 24ms/step\n",
      "step0's proportion is [[5.3670454 7.5422616]]\n",
      "\u001b[1m1/1\u001b[0m \u001b[32m━━━━━━━━━━━━━━━━━━━━\u001b[0m\u001b[37m\u001b[0m \u001b[1m0s\u001b[0m 24ms/step\n",
      "step1's proportion is [[6.9163103 9.147459 ]]\n",
      "\u001b[1m1/1\u001b[0m \u001b[32m━━━━━━━━━━━━━━━━━━━━\u001b[0m\u001b[37m\u001b[0m \u001b[1m0s\u001b[0m 24ms/step\n",
      "step2's proportion is [[ 8.098839 10.339747]]\n",
      "\u001b[1m1/1\u001b[0m \u001b[32m━━━━━━━━━━━━━━━━━━━━\u001b[0m\u001b[37m\u001b[0m \u001b[1m0s\u001b[0m 25ms/step\n",
      "step3's proportion is [[8.85599   6.9505997]]\n",
      "\u001b[1m1/1\u001b[0m \u001b[32m━━━━━━━━━━━━━━━━━━━━\u001b[0m\u001b[37m\u001b[0m \u001b[1m0s\u001b[0m 25ms/step\n",
      "step4's proportion is [[9.257921 5.254137]]\n",
      "\u001b[1m1/1\u001b[0m \u001b[32m━━━━━━━━━━━━━━━━━━━━\u001b[0m\u001b[37m\u001b[0m \u001b[1m0s\u001b[0m 23ms/step\n",
      "step5's proportion is [[9.37494 5.36383]]\n"
     ]
    }
   ],
   "source": [
    "for i in range(-5, 6):\n",
    "    print(f'step{i}\\'s proportion is', model.predict(np.array([i])))\n",
    "\n",
    "print(\"학습시간: 1분 39초\")"
   ]
  },
  {
   "cell_type": "code",
   "execution_count": 19,
   "id": "6a684b84",
   "metadata": {},
   "outputs": [
    {
     "name": "stdout",
     "output_type": "stream",
     "text": [
      "[0. 0. 0. 0. 0. 0. 0. 0. 0. 0.]\n"
     ]
    }
   ],
   "source": [
    "print(np.zeros((10, ), dtype=np.float32))"
   ]
  },
  {
   "cell_type": "code",
   "execution_count": null,
   "id": "64720154",
   "metadata": {},
   "outputs": [],
   "source": []
  }
 ],
 "metadata": {
  "kernelspec": {
   "display_name": "main",
   "language": "python",
   "name": "python3"
  },
  "language_info": {
   "codemirror_mode": {
    "name": "ipython",
    "version": 3
   },
   "file_extension": ".py",
   "mimetype": "text/x-python",
   "name": "python",
   "nbconvert_exporter": "python",
   "pygments_lexer": "ipython3",
   "version": "3.11.11"
  }
 },
 "nbformat": 4,
 "nbformat_minor": 5
}
